{
  "nbformat": 4,
  "nbformat_minor": 0,
  "metadata": {
    "colab": {
      "name": "國企1A_410556046_陳福菖.ipynb",
      "provenance": [],
      "authorship_tag": "ABX9TyMxlYzVwmmjvtEwsPGcRT9a",
      "include_colab_link": true
    },
    "kernelspec": {
      "name": "python3",
      "display_name": "Python 3"
    },
    "language_info": {
      "name": "python"
    }
  },
  "cells": [
    {
      "cell_type": "markdown",
      "metadata": {
        "id": "view-in-github",
        "colab_type": "text"
      },
      "source": [
        "<a href=\"https://colab.research.google.com/github/CHANG0327/Introduction-to-Computers/blob/main/%E5%9C%8B%E4%BC%811A_410556046_%E9%99%B3%E7%A6%8F%E8%8F%96.ipynb\" target=\"_parent\"><img src=\"https://colab.research.google.com/assets/colab-badge.svg\" alt=\"Open In Colab\"/></a>"
      ]
    },
    {
      "cell_type": "code",
      "execution_count": 9,
      "metadata": {
        "id": "XB8PZgYLi3B4",
        "colab": {
          "base_uri": "https://localhost:8080/"
        },
        "outputId": "df76ec13-b13b-42d6-d971-1797973b7427"
      },
      "outputs": [
        {
          "output_type": "stream",
          "name": "stdout",
          "text": [
            "消費者擁有的金額150\n",
            "可購買手機\n"
          ]
        }
      ],
      "source": [
        "money = int(input(\"消費者擁有的金額\"))\n",
        "if( money < 100 ):\n",
        "      print('金額不足')\n",
        "elif( money >= 100 and money < 200 ):\n",
        "      print('可購買手機')\n",
        "elif( money >= 200 and money < 300 ):\n",
        "      print('可購買平板')\n",
        "elif( money >= 300 and money < 400 ):\n",
        "      print('可購買電腦')           \n",
        "\n",
        "\n",
        "\n"
      ]
    }
  ]
}