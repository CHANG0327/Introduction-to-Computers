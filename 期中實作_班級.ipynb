{
  "nbformat": 4,
  "nbformat_minor": 0,
  "metadata": {
    "colab": {
      "name": "期中實作_班級.ipynb",
      "provenance": [],
      "authorship_tag": "ABX9TyPW8I3voM+v/IUVSpYT2u27",
      "include_colab_link": true
    },
    "kernelspec": {
      "name": "python3",
      "display_name": "Python 3"
    },
    "language_info": {
      "name": "python"
    }
  },
  "cells": [
    {
      "cell_type": "markdown",
      "metadata": {
        "id": "view-in-github",
        "colab_type": "text"
      },
      "source": [
        "<a href=\"https://colab.research.google.com/github/CHANG0327/Introduction-to-Computers/blob/main/%E6%9C%9F%E4%B8%AD%E5%AF%A6%E4%BD%9C_%E7%8F%AD%E7%B4%9A.ipynb\" target=\"_parent\"><img src=\"https://colab.research.google.com/assets/colab-badge.svg\" alt=\"Open In Colab\"/></a>"
      ]
    },
    {
      "cell_type": "code",
      "execution_count": null,
      "metadata": {
        "id": "A5Har_14eqoa"
      },
      "outputs": [],
      "source": [
        "print"
      ]
    }
  ]
}