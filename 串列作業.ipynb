{
  "nbformat": 4,
  "nbformat_minor": 0,
  "metadata": {
    "colab": {
      "name": "串列作業.ipynb",
      "provenance": [],
      "authorship_tag": "ABX9TyMYJdNn0Yw1Wr396ExzwJn8",
      "include_colab_link": true
    },
    "kernelspec": {
      "name": "python3",
      "display_name": "Python 3"
    },
    "language_info": {
      "name": "python"
    }
  },
  "cells": [
    {
      "cell_type": "markdown",
      "metadata": {
        "id": "view-in-github",
        "colab_type": "text"
      },
      "source": [
        "<a href=\"https://colab.research.google.com/github/CHANG0327/Introduction-to-Computers/blob/main/%E4%B8%B2%E5%88%97%E4%BD%9C%E6%A5%AD.ipynb\" target=\"_parent\"><img src=\"https://colab.research.google.com/assets/colab-badge.svg\" alt=\"Open In Colab\"/></a>"
      ]
    },
    {
      "cell_type": "code",
      "source": [
        "Player = ['Curry','Green','Durant','Looney','Thompson']\n",
        "Player[2] = 'Wiggins'\n",
        "print('金州勇士現在有的球員陣容=',Player)\n",
        "Fraction = [30,5,22,6,8]\n",
        "print('勇士今天最高的三個得分為',Fraction[0:5:2],'球員分別為',Player[0:5:2])\n",
        "print('勇士今天最低的兩個得分為',Fraction[1:4:2],'球員分別為',Player[1:5:2])\n",
        "print('勇士今天最高得分為',Player[0],'分數為',max(Fraction),'分')\n",
        "print('勇士今天最低得分為',Player[1],'分數為',min(Fraction),'分')"
      ],
      "metadata": {
        "colab": {
          "base_uri": "https://localhost:8080/"
        },
        "id": "c3SjqVLuKH1h",
        "outputId": "a7134a7c-f76c-407b-961b-bfc7b7602508"
      },
      "execution_count": 4,
      "outputs": [
        {
          "output_type": "stream",
          "name": "stdout",
          "text": [
            "金州勇士現在有的球員陣容= ['Curry', 'Green', 'Wiggins', 'Looney', 'Thompson']\n",
            "勇士今天最高的三個得分為 [30, 22, 8] 球員分別為 ['Curry', 'Wiggins', 'Thompson']\n",
            "勇士今天最低的兩個得分為 [5, 6] 球員分別為 ['Green', 'Looney']\n",
            "勇士今天最高得分為 Curry 分數為 30 分\n",
            "勇士今天最低得分為 Green 分數為 5 分\n"
          ]
        }
      ]
    }
  ]
}