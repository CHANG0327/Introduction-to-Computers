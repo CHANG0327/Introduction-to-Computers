{
  "nbformat": 4,
  "nbformat_minor": 0,
  "metadata": {
    "colab": {
      "name": "0511.ipynb",
      "provenance": [],
      "collapsed_sections": [],
      "authorship_tag": "ABX9TyMsI3F5iA9OPxICUziIKzM6",
      "include_colab_link": true
    },
    "kernelspec": {
      "name": "python3",
      "display_name": "Python 3"
    },
    "language_info": {
      "name": "python"
    }
  },
  "cells": [
    {
      "cell_type": "markdown",
      "metadata": {
        "id": "view-in-github",
        "colab_type": "text"
      },
      "source": [
        "<a href=\"https://colab.research.google.com/github/CHANG0327/Introduction-to-Computers/blob/main/0511.ipynb\" target=\"_parent\"><img src=\"https://colab.research.google.com/assets/colab-badge.svg\" alt=\"Open In Colab\"/></a>"
      ]
    },
    {
      "cell_type": "code",
      "execution_count": 1,
      "metadata": {
        "colab": {
          "base_uri": "https://localhost:8080/"
        },
        "id": "w0zZhyLZhAOE",
        "outputId": "3ad0249a-467b-4997-c49e-af7149824c72"
      },
      "outputs": [
        {
          "output_type": "stream",
          "name": "stdout",
          "text": [
            "test\n"
          ]
        }
      ],
      "source": [
        "print(\"test\")"
      ]
    },
    {
      "cell_type": "code",
      "source": [
        "temp = float(input(\"請輸入你的體溫\"))\n",
        "if temp >= 37.5:\n",
        "  print(\"體溫過高\")\n",
        "elif temp >= 37 and temp < 37.4:\n",
        "  print(\"體溫略高！\")\n",
        "elif temp >= 34 and temp < 36.9:\n",
        "  print(\"體溫正常！\")\n",
        "else:\n",
        "  print(\"體溫異常，請重心量測！\")\n",
        "\n",
        "\n",
        "\n",
        "\n"
      ],
      "metadata": {
        "colab": {
          "base_uri": "https://localhost:8080/"
        },
        "id": "D2Z41TwJhNTi",
        "outputId": "2a12b1d7-a964-4e71-9959-3b0b88eff207"
      },
      "execution_count": 3,
      "outputs": [
        {
          "output_type": "stream",
          "name": "stdout",
          "text": [
            "請輸入你的體溫37.5\n",
            "體溫過高\n"
          ]
        }
      ]
    },
    {
      "cell_type": "code",
      "source": [
        "money = int(input(\"請輸入金額:\"))\n",
        "if (money >= 10000):\n",
        "  if(money >=100000):\n",
        "    print(\"八折\", money * 0.8, end = \"元\\n\")\n",
        "  elif(money >=50000):\n",
        "    print(\"八五折\", money * 0.85, end = \"元\\n\")\n",
        "  elif(money >=30000):\n",
        "    print(\"九折\", money * 0.9, end = \"元\\n\")\n",
        "  else:\n",
        "    print(\"九五折\", money * 0.95, end = \"元\\n\")\n",
        "else:\n",
        "  print(\"沒打折\", money, end= \"元\\n\")"
      ],
      "metadata": {
        "colab": {
          "base_uri": "https://localhost:8080/"
        },
        "id": "Oqdi0LfAk4k_",
        "outputId": "d070b00b-89f2-4d7a-e420-2c5046e39c69"
      },
      "execution_count": 11,
      "outputs": [
        {
          "output_type": "stream",
          "name": "stdout",
          "text": [
            "請輸入金額:50000\n",
            "八五折 42500.0元\n"
          ]
        }
      ]
    },
    {
      "cell_type": "code",
      "source": [
        "score = int(input(\"請輸入成績:\"))\n",
        "if (score >= 10):\n",
        "  if(score >= 90):\n",
        "    print(\"A\")\n",
        "  elif(80 <= score <= 89):\n",
        "    print(\"B\")\n",
        "  elif(70 <= score <= 79):\n",
        "    print(\"C\")\n",
        "  elif(60 <= score <= 69):\n",
        "    print(\"D\")\n",
        "  else:\n",
        "    print(\"E\")"
      ],
      "metadata": {
        "colab": {
          "base_uri": "https://localhost:8080/"
        },
        "id": "2BxIhgs7poOU",
        "outputId": "64d88f20-a7ca-44bc-c70e-6a49d0e0306f"
      },
      "execution_count": 7,
      "outputs": [
        {
          "output_type": "stream",
          "name": "stdout",
          "text": [
            "請輸入成績:90\n",
            "A\n"
          ]
        }
      ]
    },
    {
      "cell_type": "code",
      "source": [
        ""
      ],
      "metadata": {
        "id": "AcRUxPzYfmBn"
      },
      "execution_count": null,
      "outputs": []
    },
    {
      "cell_type": "code",
      "source": [
        " score = int(input(\"請輸入成績:\"))\n",
        "if (score >= 10):\n",
        "  if(score >= 90):\n",
        "    print(\"A\")\n",
        "  elif(80 <= score <= 89):\n",
        "    print(\"B\")\n",
        "  elif(70 <= score <= 79):\n",
        "    print(\"C\")\n",
        "  elif(60 <= score <= 69):\n",
        "    print(\"D\")\n",
        "  else: \n",
        "    print(\"E\")"
      ],
      "metadata": {
        "outputId": "f8f6eba0-4408-4ae6-a57a-a20501d9ac18",
        "colab": {
          "base_uri": "https://localhost:8080/"
        },
        "id": "3DxrACnYfnQT"
      },
      "execution_count": 8,
      "outputs": [
        {
          "output_type": "stream",
          "name": "stdout",
          "text": [
            "請輸入成績:80\n",
            "B\n"
          ]
        }
      ]
    },
    {
      "cell_type": "code",
      "source": [
        "score = int(input(\"請輸入成績:\"))\n",
        "if (score >= 10):\n",
        "  if(score >= 90):\n",
        "    print(\"A\")\n",
        "  elif(80 <= score <= 89):\n",
        "    print(\"B\")\n",
        "  elif(70 <= score <= 79):\n",
        "    print(\"C\")\n",
        "  elif(60 <= score <= 69):\n",
        "    print(\"D\")\n",
        "  else:\n",
        "    print(\"E\")"
      ],
      "metadata": {
        "outputId": "bc71820a-98cb-40ee-c554-5530e49c3825",
        "colab": {
          "base_uri": "https://localhost:8080/"
        },
        "id": "R7KfCNN6fmXs"
      },
      "execution_count": 9,
      "outputs": [
        {
          "output_type": "stream",
          "name": "stdout",
          "text": [
            "請輸入成績:50\n",
            "E\n"
          ]
        }
      ]
    },
    {
      "cell_type": "code",
      "source": [
        ""
      ],
      "metadata": {
        "id": "k_yzL_RCqq7M"
      },
      "execution_count": null,
      "outputs": []
    },
    {
      "cell_type": "code",
      "source": [
        ""
      ],
      "metadata": {
        "id": "Ciu4geDrqrYN"
      },
      "execution_count": null,
      "outputs": []
    }
  ]
}