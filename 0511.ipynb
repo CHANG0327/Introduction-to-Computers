{
  "nbformat": 4,
  "nbformat_minor": 0,
  "metadata": {
    "colab": {
      "name": "0511.ipynb",
      "provenance": [],
      "authorship_tag": "ABX9TyPblTZzt71GRwqzDYW4k8H9",
      "include_colab_link": true
    },
    "kernelspec": {
      "name": "python3",
      "display_name": "Python 3"
    },
    "language_info": {
      "name": "python"
    }
  },
  "cells": [
    {
      "cell_type": "markdown",
      "metadata": {
        "id": "view-in-github",
        "colab_type": "text"
      },
      "source": [
        "<a href=\"https://colab.research.google.com/github/CHANG0327/Introduction-to-Computers/blob/main/0511.ipynb\" target=\"_parent\"><img src=\"https://colab.research.google.com/assets/colab-badge.svg\" alt=\"Open In Colab\"/></a>"
      ]
    },
    {
      "cell_type": "code",
      "execution_count": 1,
      "metadata": {
        "colab": {
          "base_uri": "https://localhost:8080/"
        },
        "id": "pZAtxvIT2q26",
        "outputId": "5d6be6e0-a7c9-412a-fe48-4f6412500973"
      },
      "outputs": [
        {
          "output_type": "stream",
          "name": "stdout",
          "text": [
            "test\n"
          ]
        }
      ],
      "source": [
        "print(\"test\")"
      ]
    },
    {
      "cell_type": "code",
      "source": [
        "temp = float(input(\"請輸入你的體溫\"))\n",
        "if temp >= 37.5:\n",
        "  print(\"體溫過高\")\n",
        "elif temp >= 37 and temp < 37.4:\n",
        "  print(\"體溫略高！\")\n",
        "elif temp >= 34 and temp < 36.9:\n",
        "  print(\"體溫正常！\")\n",
        "else:\n",
        "  print(\"體溫異常，請重心量測！\")"
      ],
      "metadata": {
        "colab": {
          "base_uri": "https://localhost:8080/"
        },
        "id": "DURiEI_D2wX-",
        "outputId": "37420399-80fe-4d7d-8131-8ee3b1e04d5c"
      },
      "execution_count": 2,
      "outputs": [
        {
          "output_type": "stream",
          "name": "stdout",
          "text": [
            "請輸入你的體溫37.5\n",
            "體溫過高\n"
          ]
        }
      ]
    },
    {
      "cell_type": "code",
      "source": [
        "money = int(input(\"請輸入金額:\"))\n",
        "if (money >= 10000):\n",
        "  if(money >=100000):\n",
        "    print(\"八折\", money * 0.8, end = \"元\\n\")\n",
        "  elif(money >=50000):\n",
        "    print(\"八五折\", money * 0.85, end = \"元\\n\")\n",
        "  elif(money >=30000):\n",
        "    print(\"九折\", money * 0.9, end = \"元\\n\")\n",
        "  else:\n",
        "    print(\"九五折\", money * 0.95, end = \"元\\n\")\n",
        "else:\n",
        "  print(\"沒打折\", money, end= \"元\\n\")"
      ],
      "metadata": {
        "colab": {
          "base_uri": "https://localhost:8080/"
        },
        "id": "ifavxJGd2yZX",
        "outputId": "c504b30e-91fd-4568-f1b4-af0994b46de7"
      },
      "execution_count": 4,
      "outputs": [
        {
          "output_type": "stream",
          "name": "stdout",
          "text": [
            "請輸入金額:100\n",
            "沒打折 100元\n"
          ]
        }
      ]
    },
    {
      "cell_type": "code",
      "source": [
        "money = int(input(\"請輸入金額:\"))\n",
        "if (money >= 10000):\n",
        "  if(money >=100000):\n",
        "    print(\"八折\", money * 0.8, end = \"元\\n\")\n",
        "  elif(money >=50000):\n",
        "    print(\"八五折\", money * 0.85, end = \"元\\n\")\n",
        "  elif(money >=30000):\n",
        "    print(\"九折\", money * 0.9, end = \"元\\n\")\n",
        "  else:\n",
        "    print(\"九五折\", money * 0.95, end = \"元\\n\")\n",
        "else:\n",
        "  print(\"沒打折\", money, end= \"元\\n\")"
      ],
      "metadata": {
        "colab": {
          "base_uri": "https://localhost:8080/"
        },
        "id": "ORN0ScDw3HWA",
        "outputId": "e81d269a-2238-46a2-aece-c57e8dc35bb0"
      },
      "execution_count": 6,
      "outputs": [
        {
          "output_type": "stream",
          "name": "stdout",
          "text": [
            "請輸入金額:100000\n",
            "八折 80000.0元\n"
          ]
        }
      ]
    },
    {
      "cell_type": "code",
      "source": [
        "score = int(input(\"請輸入成績:\"))\n",
        "if (score >= 10):\n",
        "  if(score >= 90):\n",
        "    print(\"A\")\n",
        "  elif(80 <= score <= 89):\n",
        "    print(\"B\")\n",
        "  elif(70 <= score <= 79):\n",
        "    print(\"C\")\n",
        "  elif(60 <= score <= 69):\n",
        "    print(\"D\")\n",
        "  else:\n",
        "    print(\"E\")"
      ],
      "metadata": {
        "colab": {
          "base_uri": "https://localhost:8080/"
        },
        "id": "_OZvLaw53P0L",
        "outputId": "07d97e8c-337e-474a-cc73-01a1aa3e78ff"
      },
      "execution_count": 7,
      "outputs": [
        {
          "output_type": "stream",
          "name": "stdout",
          "text": [
            "請輸入成績:90\n",
            "A\n"
          ]
        }
      ]
    },
    {
      "cell_type": "code",
      "source": [
        "score = int(input(\"請輸入成績:\"))\n",
        "if (score >= 10):\n",
        "  if(score >= 90):\n",
        "    print(\"A\")\n",
        "  elif(80 <= score <= 89):\n",
        "    print(\"B\")\n",
        "  elif(70 <= score <= 79):\n",
        "    print(\"C\")\n",
        "  elif(60 <= score <= 69):\n",
        "    print(\"D\")\n",
        "  else:\n",
        "    print(\"E\")"
      ],
      "metadata": {
        "colab": {
          "base_uri": "https://localhost:8080/"
        },
        "id": "y989ZDIy3Uy2",
        "outputId": "b329c748-918a-4660-c1b8-5744a8ea95d9"
      },
      "execution_count": 8,
      "outputs": [
        {
          "output_type": "stream",
          "name": "stdout",
          "text": [
            "請輸入成績:85\n",
            "B\n"
          ]
        }
      ]
    },
    {
      "cell_type": "code",
      "source": [
        "score = int(input(\"請輸入成績:\"))\n",
        "if (score >= 10):\n",
        "  if(score >= 90):\n",
        "    print(\"A\")\n",
        "  elif(80 <= score <= 89):\n",
        "    print(\"B\")\n",
        "  elif(70 <= score <= 79):\n",
        "    print(\"C\")\n",
        "  elif(60 <= score <= 69):\n",
        "    print(\"D\")\n",
        "  else:\n",
        "    print(\"E\")\n",
        "  "
      ],
      "metadata": {
        "colab": {
          "base_uri": "https://localhost:8080/"
        },
        "id": "goDNHNYV3W9U",
        "outputId": "c73734da-9988-464c-87fd-d2391a40439a"
      },
      "execution_count": 9,
      "outputs": [
        {
          "output_type": "stream",
          "name": "stdout",
          "text": [
            "請輸入成績:50\n",
            "E\n"
          ]
        }
      ]
    },
    {
      "cell_type": "code",
      "source": [
        "month = int(input(\"請輸入月份:\"))\n",
        "if(month >= 1 and month <= 12):\n",
        "  if(month >= 3 and month <= 5):\n",
        "    print(month,\"月是春天!\")\n",
        "  elif(month >= 6 and month <= 8):\n",
        "    print(month,\"月是夏天!\")\n",
        "  elif(month >= 9 and month <= 11):\n",
        "    print(month,\"月是秋天!\")\n",
        "  else:\n",
        "    print(month,\"月是冬天!\")\n",
        "else:\n",
        "  print(\"月份不在範圍內!\")\n"
      ],
      "metadata": {
        "colab": {
          "base_uri": "https://localhost:8080/"
        },
        "id": "JvIeQyhC3alM",
        "outputId": "c53c9309-2f35-4cf8-9052-43a034f7028a"
      },
      "execution_count": 10,
      "outputs": [
        {
          "output_type": "stream",
          "name": "stdout",
          "text": [
            "請輸入月份:5\n",
            "5 月是春天!\n"
          ]
        }
      ]
    },
    {
      "cell_type": "code",
      "source": [
        "month = int(input(\"請輸入月份:\"))\n",
        "if(month >= 1 and month <= 12):\n",
        "  if(month >= 3 and month <= 5):\n",
        "    print(month,\"月是春天!\")\n",
        "  elif(month >= 6 and month <= 8):\n",
        "    print(month,\"月是夏天!\")\n",
        "  elif(month >= 9 and month <= 11):\n",
        "    print(month,\"月是秋天!\")\n",
        "  else:\n",
        "    print(month,\"月是冬天!\")\n",
        "else:\n",
        "  print(\"月份不在範圍內!\")\n"
      ],
      "metadata": {
        "colab": {
          "base_uri": "https://localhost:8080/"
        },
        "id": "iwEYfVZJ3fnU",
        "outputId": "1ea0a565-64d6-4e96-9f53-2900dc521973"
      },
      "execution_count": 11,
      "outputs": [
        {
          "output_type": "stream",
          "name": "stdout",
          "text": [
            "請輸入月份:7\n",
            "7 月是夏天!\n"
          ]
        }
      ]
    },
    {
      "cell_type": "code",
      "source": [
        "month = int(input(\"請輸入月份:\"))\n",
        "if(month >= 1 and month <= 12):\n",
        "  if(month >= 3 and month <= 5):\n",
        "    print(month,\"月是春天!\")\n",
        "  elif(month >= 6 and month <= 8):\n",
        "    print(month,\"月是夏天!\")\n",
        "  elif(month >= 9 and month <= 11):\n",
        "    print(month,\"月是秋天!\")\n",
        "  else:\n",
        "    print(month,\"月是冬天!\")\n",
        "else:\n",
        "  print(\"月份不在範圍內!\")"
      ],
      "metadata": {
        "colab": {
          "base_uri": "https://localhost:8080/"
        },
        "id": "ryv9X4Fd3iGj",
        "outputId": "28475950-2b78-4b38-a806-97e24b247b85"
      },
      "execution_count": 12,
      "outputs": [
        {
          "output_type": "stream",
          "name": "stdout",
          "text": [
            "請輸入月份:10\n",
            "10 月是秋天!\n"
          ]
        }
      ]
    },
    {
      "cell_type": "code",
      "source": [
        "month = int(input(\"請輸入月份:\"))\n",
        "if(month >= 1 and month <= 12):\n",
        "  if(month >= 3 and month <= 5):\n",
        "    print(month,\"月是春天!\")\n",
        "  elif(month >= 6 and month <= 8):\n",
        "    print(month,\"月是夏天!\")\n",
        "  elif(month >= 9 and month <= 11):\n",
        "    print(month,\"月是秋天!\")\n",
        "  else:\n",
        "    print(month,\"月是冬天!\")\n",
        "else:\n",
        "  print(\"月份不在範圍內!\")"
      ],
      "metadata": {
        "colab": {
          "base_uri": "https://localhost:8080/"
        },
        "id": "rW8fgAp23oHi",
        "outputId": "80f37fed-39a9-4b50-cc52-a0aba3c6c58b"
      },
      "execution_count": 13,
      "outputs": [
        {
          "output_type": "stream",
          "name": "stdout",
          "text": [
            "請輸入月份:1\n",
            "1 月是冬天!\n"
          ]
        }
      ]
    },
    {
      "cell_type": "code",
      "source": [
        "money = int(input(\"請輸入今年收入净額:\"))\n",
        "if (money >= 300000 and money <= 2000000):\n",
        "  if(money >=2000000):\n",
        "    print(\"付稅金額:\", money * 0.3, end = \"元\\n\")\n",
        "  elif(money >=1000000):\n",
        "    print(\"付稅金額:\", money * 0.21, end = \"元\\n\")\n",
        "  elif(money >=600000):\n",
        "    print(\"付稅金額:\", money * 0.13, end = \"元\\n\")\n",
        "  elif(money >=300000):\n",
        "    print(\"付稅金額:\", money * 0.06, end = \"元\\n\")\n",
        "else:\n",
        "  print(\"付稅金額:\", end = \"0元\\n\")\n"
      ],
      "metadata": {
        "colab": {
          "base_uri": "https://localhost:8080/"
        },
        "id": "CJBIkDgr3s6Z",
        "outputId": "95dee2b0-5ca2-470b-b970-f200a74544c5"
      },
      "execution_count": 14,
      "outputs": [
        {
          "output_type": "stream",
          "name": "stdout",
          "text": [
            "請輸入今年收入净額:2000000\n",
            "付稅金額: 600000.0元\n"
          ]
        }
      ]
    },
    {
      "cell_type": "code",
      "source": [
        "money = int(input(\"請輸入今年收入净額:\"))\n",
        "if (money >= 300000 and money <= 2000000):\n",
        "  if(money >=2000000):\n",
        "    print(\"付稅金額:\", money * 0.3, end = \"元\\n\")\n",
        "  elif(money >=1000000):\n",
        "    print(\"付稅金額:\", money * 0.21, end = \"元\\n\")\n",
        "  elif(money >=600000):\n",
        "    print(\"付稅金額:\", money * 0.13, end = \"元\\n\")\n",
        "  elif(money >=300000):\n",
        "    print(\"付稅金額:\", money * 0.06, end = \"元\\n\")\n",
        "else:\n",
        "  print(\"付稅金額:\", end = \"0元\\n\")"
      ],
      "metadata": {
        "colab": {
          "base_uri": "https://localhost:8080/"
        },
        "id": "LZ2-hayN3wf6",
        "outputId": "89bb5796-7085-4511-920d-e8c654fee387"
      },
      "execution_count": 15,
      "outputs": [
        {
          "output_type": "stream",
          "name": "stdout",
          "text": [
            "請輸入今年收入净額:100000\n",
            "付稅金額:0元\n"
          ]
        }
      ]
    }
  ]
}